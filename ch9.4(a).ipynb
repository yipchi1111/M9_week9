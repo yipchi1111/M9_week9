{
    "nbformat_minor": 1, 
    "cells": [
        {
            "source": "# Applied DS Capstone Project - The Battle of Neighborhoods", 
            "cell_type": "markdown", 
            "metadata": {
                "collapsed": true
            }
        }, 
        {
            "source": "## 1.Business Problem", 
            "cell_type": "markdown", 
            "metadata": {}
        }, 
        {
            "source": "Canada is a diversified country with various types of cuisine. When it comes to categorizing these dishes into Canadian food, it might be a challenging task since Canadian cuisine varies significantly depending on the regions of the nation in Canada. As a matter of fact,most of the people living in Canada enjoy eating western cuisine which are having similar characteristics with the cuisine in the Europe and American regions. These cuisine are mainly of strong emphasis on the ingredient of food such as the composition of fresh fruits and vegetable and questionable amounts of salt and sugar. ", 
            "cell_type": "markdown", 
            "metadata": {}
        }, 
        {
            "source": "In my project, I will attempt to demonstrate the facvt that Toronto has wide variety of resturants.\nThe major purpose of this project is to facilitate the opening of new food shops in Toronto with considering the demographics, characteristics and income distribution so as to make a better decision in business operation. ", 
            "cell_type": "markdown", 
            "metadata": {}
        }, 
        {
            "source": "## 2. Processes", 
            "cell_type": "markdown", 
            "metadata": {}
        }, 
        {
            "source": "a. Collect the relevant data ", 
            "cell_type": "markdown", 
            "metadata": {}
        }, 
        {
            "source": "b. Store the cleaned-up data in a Dataframe for processing", 
            "cell_type": "markdown", 
            "metadata": {}
        }, 
        {
            "source": "c. Use FourSquare API ", 
            "cell_type": "markdown", 
            "metadata": {}
        }, 
        {
            "source": "d. Figure out the required location", 
            "cell_type": "markdown", 
            "metadata": {}
        }, 
        {
            "source": "e. Demontrate the ranking of neighborhoods using folium library(python) with considering the comments, location, popularity and taste", 
            "cell_type": "markdown", 
            "metadata": {}
        }, 
        {
            "source": "##  3. Method of Analysis", 
            "cell_type": "markdown", 
            "metadata": {}
        }, 
        {
            "source": "Import libraries such as panadas, numpy in the python script", 
            "cell_type": "markdown", 
            "metadata": {}
        }, 
        {
            "source": "Use FourSquare API", 
            "cell_type": "markdown", 
            "metadata": {}
        }, 
        {
            "source": "## 4. Use of Data", 
            "cell_type": "markdown", 
            "metadata": {}
        }, 
        {
            "source": "a. https://en.wikipedia.org/wiki/List_of_postal_codes_of_Canada:_M\nThis website is \"Toronto City data that contains list Boroughs, Neighborhoods\"", 
            "cell_type": "markdown", 
            "metadata": {}
        }, 
        {
            "source": "b. http://cocl.us/Geospatial_data This website includes the latitudes and longi", 
            "cell_type": "markdown", 
            "metadata": {}
        }
    ], 
    "metadata": {
        "kernelspec": {
            "display_name": "Python 3.6", 
            "name": "python3", 
            "language": "python"
        }, 
        "language_info": {
            "mimetype": "text/x-python", 
            "nbconvert_exporter": "python", 
            "version": "3.6.8", 
            "name": "python", 
            "file_extension": ".py", 
            "pygments_lexer": "ipython3", 
            "codemirror_mode": {
                "version": 3, 
                "name": "ipython"
            }
        }
    }, 
    "nbformat": 4
}